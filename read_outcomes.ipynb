{
 "cells": [
  {
   "cell_type": "code",
   "execution_count": 1,
   "metadata": {},
   "outputs": [],
   "source": [
    "import json"
   ]
  },
  {
   "cell_type": "code",
   "execution_count": 8,
   "metadata": {},
   "outputs": [],
   "source": [
    "with open(\"./data/annotated/case-outcomes-3.jsonl\", 'r') as f:\n",
    "    recs = f.readlines()\n",
    "    recs = [json.loads(rec) for rec in recs]"
   ]
  },
  {
   "cell_type": "code",
   "execution_count": 9,
   "metadata": {},
   "outputs": [
    {
     "data": {
      "text/plain": [
       "[{'user_id': 'bf400aab-643d-48b2-9602-6879fc76fdb4',\n",
       "  'value': {'start': [0, 184, 158, 712],\n",
       "   'end': [157, 710, 182, 1273],\n",
       "   'label': ['BC', 'BC', 'RTL', 'RTL'],\n",
       "   'text': ['Diagnosis: Dilated CBD, distended gallbladder\\n \\nTreatment: Inpatient admission, diagnostic treatment and surgery\\n\\nThe insurer denied the inpatient admission.',\n",
       "    'The patient presented with abdominal pain. He was afebrile and the vital signs were stable. There was no abdominal rebound or guarding. The WBC count was 14.5. The bilirubin was normal. A CAT scan revealed a dilated CBD and a distended gallbladder. An MRCP revealed a CBD stone with bile duct dilatation. The patient was treated with antibiotics. He underwent an ERCP with sphincterotomy and balloon sweeps. A laparoscopic cholecystectomy was then done. The patient remained hemodynamically stable and his pain was controlled.',\n",
       "    'The denial was reversed.',\n",
       "    'Acute cholangitis is an indication for admission if there are both systemic signs of inflammation and evidence of common bile duct disease. A WBC count over 10,000 is a listed systemic sign of inflammation. This patient had a WBC count of 14,500 with 92.6% neutrophils. Hepatic imaging showing biliary dilatation or evidence of a stone is listed as evidence of common bile duct disease.\\n\\nThe patient met criteria for admission for gallbladder or bile duct inflammation or stone. IV antibiotics were appropriate in view of the elevated WBC count with left shift.']},\n",
       "  'status': 'submitted'}]"
      ]
     },
     "execution_count": 9,
     "metadata": {},
     "output_type": "execute_result"
    }
   ],
   "source": [
    "rec['case-spans']"
   ]
  },
  {
   "cell_type": "code",
   "execution_count": 10,
   "metadata": {},
   "outputs": [],
   "source": [
    "annotated_recs = [rec for rec in recs if len(rec['case-spans']) > 0]"
   ]
  },
  {
   "cell_type": "code",
   "execution_count": null,
   "metadata": {},
   "outputs": [],
   "source": [
    "# Extract spans in format for downstream QA\n"
   ]
  },
  {
   "cell_type": "code",
   "execution_count": null,
   "metadata": {},
   "outputs": [],
   "source": [
    "# Extract Backgrounds and outcomes in format for downstream classification"
   ]
  }
 ],
 "metadata": {
  "kernelspec": {
   "display_name": ".venv",
   "language": "python",
   "name": "python3"
  },
  "language_info": {
   "codemirror_mode": {
    "name": "ipython",
    "version": 3
   },
   "file_extension": ".py",
   "mimetype": "text/x-python",
   "name": "python",
   "nbconvert_exporter": "python",
   "pygments_lexer": "ipython3",
   "version": "3.12.2"
  }
 },
 "nbformat": 4,
 "nbformat_minor": 2
}
